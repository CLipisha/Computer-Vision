{
 "cells": [
  {
   "cell_type": "code",
   "execution_count": 1,
   "metadata": {},
   "outputs": [],
   "source": [
    "import pandas as pd\n",
    "import numpy as np\n",
    "import torch\n",
    "from torch.autograd import Variable\n",
    "from torch.nn import Linear, ReLU, CrossEntropyLoss, Sequential, Conv2d, MaxPool2d, Module, Softmax, BatchNorm2d, Dropout\n",
    "from torch.optim import Adam, SGD\n",
    "from sklearn.model_selection import train_test_split\n",
    "from sklearn.metrics import accuracy_score\n",
    "import matplotlib.pyplot as plt\n",
    "%matplotlib inline\n",
    "import warnings\n",
    "warnings.filterwarnings('ignore')"
   ]
  },
  {
   "cell_type": "code",
   "execution_count": 2,
   "metadata": {},
   "outputs": [],
   "source": [
    "train = pd.read_csv('fer3and4train.csv')\n",
    "test = pd.read_csv('fer3and4test.csv')"
   ]
  },
  {
   "cell_type": "code",
   "execution_count": 3,
   "metadata": {},
   "outputs": [],
   "source": [
    "w = 48\n",
    "h = 48\n",
    "\n",
    "train_data = train['pixels'].tolist()\n",
    "train_data_list = []\n",
    "for pixels in train_data:\n",
    "    pixel_seq = [int(pixel) for pixel in pixels.split(' ')]\n",
    "    pixel_seq = np.asarray(pixel_seq).reshape(w, h)\n",
    "    train_data_list.append(pixel_seq.astype('float32'))\n",
    "\n",
    "train_data_list = np.asarray(train_data_list)\n",
    "train_labels = np.array(train.iloc[:, 0])"
   ]
  },
  {
   "cell_type": "code",
   "execution_count": 4,
   "metadata": {},
   "outputs": [],
   "source": [
    "test_data = test['pixels'].tolist() # 1\n",
    "test_data_list = []\n",
    "for pixels in test_data:\n",
    "    pixel_seq = [int(pixel) for pixel in pixels.split(' ')]\n",
    "    pixel_seq = np.asarray(pixel_seq).reshape(w, h)\n",
    "    test_data_list.append(pixel_seq.astype('float32'))\n",
    "\n",
    "test_data_list = np.asarray(test_data_list)\n",
    "test_labels = np.array(test.iloc[:, 0])"
   ]
  },
  {
   "cell_type": "code",
   "execution_count": 5,
   "metadata": {
    "scrolled": true
   },
   "outputs": [
    {
     "data": {
      "text/plain": [
       "(((9652, 48, 48), (9652,)), ((2414, 48, 48), (2414,)))"
      ]
     },
     "execution_count": 5,
     "metadata": {},
     "output_type": "execute_result"
    }
   ],
   "source": [
    "train_x, val_x, train_y, val_y = train_test_split(train_data_list, train_labels, test_size = 0.2)\n",
    "(train_x.shape, train_y.shape), (val_x.shape, val_y.shape)"
   ]
  },
  {
   "cell_type": "code",
   "execution_count": 6,
   "metadata": {},
   "outputs": [
    {
     "name": "stdout",
     "output_type": "stream",
     "text": [
      "(9652, 1, 48, 48) (9652,)\n"
     ]
    }
   ],
   "source": [
    "train_x = train_x.reshape(9652, 1, 48, 48)\n",
    "print(train_x.shape, train_y.shape)"
   ]
  },
  {
   "cell_type": "code",
   "execution_count": 7,
   "metadata": {},
   "outputs": [
    {
     "name": "stdout",
     "output_type": "stream",
     "text": [
      "(2414, 1, 48, 48) (2414,)\n"
     ]
    }
   ],
   "source": [
    "val_x = val_x.reshape(2414, 1, 48, 48)\n",
    "print(val_x.shape, val_y.shape)"
   ]
  },
  {
   "cell_type": "code",
   "execution_count": 8,
   "metadata": {},
   "outputs": [
    {
     "name": "stdout",
     "output_type": "stream",
     "text": [
      "torch.Size([9652, 1, 48, 48]) torch.Size([9652])\n"
     ]
    }
   ],
   "source": [
    "train_x  = torch.from_numpy(train_x)\n",
    "train_y = torch.from_numpy(train_y)\n",
    "print(train_x.shape, train_y.shape)"
   ]
  },
  {
   "cell_type": "code",
   "execution_count": 9,
   "metadata": {},
   "outputs": [
    {
     "name": "stdout",
     "output_type": "stream",
     "text": [
      "torch.Size([2414, 1, 48, 48]) torch.Size([2414])\n"
     ]
    }
   ],
   "source": [
    "val_x  = torch.from_numpy(val_x)\n",
    "val_y = torch.from_numpy(val_y)\n",
    "print(val_x.shape, val_y.shape)"
   ]
  },
  {
   "cell_type": "code",
   "execution_count": 10,
   "metadata": {},
   "outputs": [
    {
     "name": "stdout",
     "output_type": "stream",
     "text": [
      "torch.Size([3000, 1, 48, 48]) torch.Size([3000])\n"
     ]
    }
   ],
   "source": [
    "test_x = test_data_list.reshape(3000, 1, 48, 48)\n",
    "test_x  = torch.from_numpy(test_x)\n",
    "test_y = torch.from_numpy(test_labels)\n",
    "print(test_x.shape, test_y.shape)"
   ]
  },
  {
   "cell_type": "code",
   "execution_count": 11,
   "metadata": {},
   "outputs": [],
   "source": [
    "class Convolution_Network(Module):   \n",
    "    def __init__(self):\n",
    "        super(Convolution_Network, self).__init__()\n",
    "        self.cnn_layer_1 = Sequential(\n",
    "            Conv2d(1, 4, kernel_size=3, stride=1, padding=1),\n",
    "            BatchNorm2d(4),\n",
    "            ReLU(inplace=True),\n",
    "            MaxPool2d(kernel_size=2, stride=2))\n",
    "        self.cnn_layer_2 = Sequential(\n",
    "            Conv2d(4, 4, kernel_size=3, stride=1, padding=1),\n",
    "            BatchNorm2d(4),\n",
    "            ReLU(inplace=True),\n",
    "            MaxPool2d(kernel_size=2, stride=2))\n",
    "        self.fully_conn = Sequential(Linear(4 * 12 * 12, 5))\n",
    "\n",
    "    def forward(self, x):\n",
    "        x = self.cnn_layer_1(x)\n",
    "        x = self.cnn_layer_2(x)\n",
    "        x = x.view(x.size(0), -1)\n",
    "        x = self.fully_conn(x)\n",
    "        return x"
   ]
  },
  {
   "cell_type": "code",
   "execution_count": 12,
   "metadata": {},
   "outputs": [
    {
     "name": "stdout",
     "output_type": "stream",
     "text": [
      "Convolution_Network(\n",
      "  (cnn_layer_1): Sequential(\n",
      "    (0): Conv2d(1, 4, kernel_size=(3, 3), stride=(1, 1), padding=(1, 1))\n",
      "    (1): BatchNorm2d(4, eps=1e-05, momentum=0.1, affine=True, track_running_stats=True)\n",
      "    (2): ReLU(inplace=True)\n",
      "    (3): MaxPool2d(kernel_size=2, stride=2, padding=0, dilation=1, ceil_mode=False)\n",
      "  )\n",
      "  (cnn_layer_2): Sequential(\n",
      "    (0): Conv2d(4, 4, kernel_size=(3, 3), stride=(1, 1), padding=(1, 1))\n",
      "    (1): BatchNorm2d(4, eps=1e-05, momentum=0.1, affine=True, track_running_stats=True)\n",
      "    (2): ReLU(inplace=True)\n",
      "    (3): MaxPool2d(kernel_size=2, stride=2, padding=0, dilation=1, ceil_mode=False)\n",
      "  )\n",
      "  (fully_conn): Sequential(\n",
      "    (0): Linear(in_features=576, out_features=5, bias=True)\n",
      "  )\n",
      ")\n"
     ]
    }
   ],
   "source": [
    "model = Convolution_Network()\n",
    "optimizer = Adam(model.parameters(), lr=0.002)\n",
    "criterion = CrossEntropyLoss()\n",
    "if torch.cuda.is_available():\n",
    "    model = model.cuda()\n",
    "    criterion = criterion.cuda()\n",
    "print(model)"
   ]
  },
  {
   "cell_type": "code",
   "execution_count": 13,
   "metadata": {},
   "outputs": [],
   "source": [
    "def train_CNN_model(epoch):\n",
    "    model.train()\n",
    "    total_loss = 0\n",
    "    X_train, Y_train = Variable(train_x), Variable(train_y)\n",
    "    X_val, Y_val = Variable(val_x), Variable(val_y)\n",
    "    if torch.cuda.is_available():\n",
    "        X_train = X_train.cuda()\n",
    "        Y_train = Y_train.cuda()\n",
    "        X_val = X_val.cuda()\n",
    "        Y_val = Y_val.cuda()\n",
    "        \n",
    "    train_Y_tensor = torch.tensor(Y_train, dtype=torch.long)\n",
    "    val_Y_tensor = torch.tensor(Y_val, dtype=torch.long)\n",
    "    optimizer.zero_grad()\n",
    "    train_result = model(X_train)\n",
    "    val_result = model(X_val)\n",
    "    tloss = criterion(train_result, train_Y_tensor)\n",
    "    training.append(tloss.item())\n",
    "    vloss = criterion(val_result, val_Y_tensor)\n",
    "    validation.append(vloss.item())\n",
    "    tloss.backward()\n",
    "    optimizer.step()\n",
    "    total_loss = tloss.item()\n",
    "    print('Epoch : ',epoch+1, '\\t', 'Loss :', vloss.item(), '\\t', 'Accuracy :', (1 - vloss.item()))"
   ]
  },
  {
   "cell_type": "code",
   "execution_count": 14,
   "metadata": {},
   "outputs": [
    {
     "name": "stdout",
     "output_type": "stream",
     "text": [
      "Epoch :  1 \t Loss : 1.6504815816879272 \t Accuracy : -0.6504815816879272\n",
      "Epoch :  2 \t Loss : 1.0584543943405151 \t Accuracy : -0.05845439434051514\n",
      "Epoch :  3 \t Loss : 0.8583572506904602 \t Accuracy : 0.1416427493095398\n",
      "Epoch :  4 \t Loss : 0.7810029983520508 \t Accuracy : 0.21899700164794922\n",
      "Epoch :  5 \t Loss : 0.7416887879371643 \t Accuracy : 0.2583112120628357\n",
      "Epoch :  6 \t Loss : 0.7170997262001038 \t Accuracy : 0.28290027379989624\n",
      "Epoch :  7 \t Loss : 0.699863612651825 \t Accuracy : 0.30013638734817505\n",
      "Epoch :  8 \t Loss : 0.6876837611198425 \t Accuracy : 0.31231623888015747\n",
      "Epoch :  9 \t Loss : 0.6787760853767395 \t Accuracy : 0.3212239146232605\n",
      "Epoch :  10 \t Loss : 0.6719338893890381 \t Accuracy : 0.3280661106109619\n",
      "Epoch :  11 \t Loss : 0.6665310263633728 \t Accuracy : 0.3334689736366272\n",
      "Epoch :  12 \t Loss : 0.6622203588485718 \t Accuracy : 0.3377796411514282\n",
      "Epoch :  13 \t Loss : 0.6586905121803284 \t Accuracy : 0.34130948781967163\n",
      "Epoch :  14 \t Loss : 0.6556938886642456 \t Accuracy : 0.3443061113357544\n",
      "Epoch :  15 \t Loss : 0.653095006942749 \t Accuracy : 0.346904993057251\n",
      "Epoch :  16 \t Loss : 0.6507954597473145 \t Accuracy : 0.34920454025268555\n",
      "Epoch :  17 \t Loss : 0.6485982537269592 \t Accuracy : 0.35140174627304077\n",
      "Epoch :  18 \t Loss : 0.6463388204574585 \t Accuracy : 0.3536611795425415\n",
      "Epoch :  19 \t Loss : 0.643979012966156 \t Accuracy : 0.356020987033844\n",
      "Epoch :  20 \t Loss : 0.6414591670036316 \t Accuracy : 0.3585408329963684\n",
      "Epoch :  21 \t Loss : 0.6387604475021362 \t Accuracy : 0.36123955249786377\n",
      "Epoch :  22 \t Loss : 0.6359421014785767 \t Accuracy : 0.36405789852142334\n",
      "Epoch :  23 \t Loss : 0.6331508755683899 \t Accuracy : 0.3668491244316101\n",
      "Epoch :  24 \t Loss : 0.6304548978805542 \t Accuracy : 0.3695451021194458\n",
      "Epoch :  25 \t Loss : 0.6279187202453613 \t Accuracy : 0.37208127975463867\n",
      "Epoch :  26 \t Loss : 0.6255688667297363 \t Accuracy : 0.37443113327026367\n",
      "Epoch :  27 \t Loss : 0.623369574546814 \t Accuracy : 0.37663042545318604\n",
      "Epoch :  28 \t Loss : 0.6212271451950073 \t Accuracy : 0.3787728548049927\n",
      "Epoch :  29 \t Loss : 0.6190786957740784 \t Accuracy : 0.38092130422592163\n",
      "Epoch :  30 \t Loss : 0.6169145107269287 \t Accuracy : 0.3830854892730713\n",
      "Epoch :  31 \t Loss : 0.6147770285606384 \t Accuracy : 0.3852229714393616\n",
      "Epoch :  32 \t Loss : 0.6126579642295837 \t Accuracy : 0.38734203577041626\n",
      "Epoch :  33 \t Loss : 0.6105532646179199 \t Accuracy : 0.3894467353820801\n",
      "Epoch :  34 \t Loss : 0.6084846258163452 \t Accuracy : 0.3915153741836548\n",
      "Epoch :  35 \t Loss : 0.6063507795333862 \t Accuracy : 0.39364922046661377\n",
      "Epoch :  36 \t Loss : 0.6041836142539978 \t Accuracy : 0.3958163857460022\n",
      "Epoch :  37 \t Loss : 0.6020286083221436 \t Accuracy : 0.39797139167785645\n",
      "Epoch :  38 \t Loss : 0.5998920202255249 \t Accuracy : 0.4001079797744751\n",
      "Epoch :  39 \t Loss : 0.5978018045425415 \t Accuracy : 0.4021981954574585\n",
      "Epoch :  40 \t Loss : 0.5958264470100403 \t Accuracy : 0.4041735529899597\n",
      "Epoch :  41 \t Loss : 0.5939126014709473 \t Accuracy : 0.40608739852905273\n",
      "Epoch :  42 \t Loss : 0.5920578837394714 \t Accuracy : 0.40794211626052856\n",
      "Epoch :  43 \t Loss : 0.5902551412582397 \t Accuracy : 0.40974485874176025\n",
      "Epoch :  44 \t Loss : 0.5885071754455566 \t Accuracy : 0.41149282455444336\n",
      "Epoch :  45 \t Loss : 0.586864173412323 \t Accuracy : 0.413135826587677\n",
      "Epoch :  46 \t Loss : 0.5853492617607117 \t Accuracy : 0.41465073823928833\n",
      "Epoch :  47 \t Loss : 0.5839094519615173 \t Accuracy : 0.41609054803848267\n",
      "Epoch :  48 \t Loss : 0.5824728012084961 \t Accuracy : 0.4175271987915039\n",
      "Epoch :  49 \t Loss : 0.5810384154319763 \t Accuracy : 0.4189615845680237\n",
      "Epoch :  50 \t Loss : 0.5796800851821899 \t Accuracy : 0.42031991481781006\n",
      "Epoch :  51 \t Loss : 0.5784260034561157 \t Accuracy : 0.4215739965438843\n",
      "Epoch :  52 \t Loss : 0.5772002935409546 \t Accuracy : 0.4227997064590454\n",
      "Epoch :  53 \t Loss : 0.575946569442749 \t Accuracy : 0.424053430557251\n",
      "Epoch :  54 \t Loss : 0.5746549367904663 \t Accuracy : 0.4253450632095337\n",
      "Epoch :  55 \t Loss : 0.5734050869941711 \t Accuracy : 0.42659491300582886\n",
      "Epoch :  56 \t Loss : 0.5721977949142456 \t Accuracy : 0.4278022050857544\n",
      "Epoch :  57 \t Loss : 0.5709939002990723 \t Accuracy : 0.42900609970092773\n",
      "Epoch :  58 \t Loss : 0.5697709918022156 \t Accuracy : 0.4302290081977844\n",
      "Epoch :  59 \t Loss : 0.5685744881629944 \t Accuracy : 0.4314255118370056\n",
      "Epoch :  60 \t Loss : 0.5674128532409668 \t Accuracy : 0.4325871467590332\n",
      "Epoch :  61 \t Loss : 0.5662957429885864 \t Accuracy : 0.4337042570114136\n",
      "Epoch :  62 \t Loss : 0.565187394618988 \t Accuracy : 0.43481260538101196\n",
      "Epoch :  63 \t Loss : 0.5640650391578674 \t Accuracy : 0.43593496084213257\n",
      "Epoch :  64 \t Loss : 0.5629147887229919 \t Accuracy : 0.43708521127700806\n",
      "Epoch :  65 \t Loss : 0.5617680549621582 \t Accuracy : 0.4382319450378418\n",
      "Epoch :  66 \t Loss : 0.5606604218482971 \t Accuracy : 0.4393395781517029\n",
      "Epoch :  67 \t Loss : 0.5596282482147217 \t Accuracy : 0.4403717517852783\n",
      "Epoch :  68 \t Loss : 0.558612048625946 \t Accuracy : 0.44138795137405396\n",
      "Epoch :  69 \t Loss : 0.5576238632202148 \t Accuracy : 0.44237613677978516\n",
      "Epoch :  70 \t Loss : 0.5566130876541138 \t Accuracy : 0.44338691234588623\n",
      "Epoch :  71 \t Loss : 0.5556475520133972 \t Accuracy : 0.4443524479866028\n",
      "Epoch :  72 \t Loss : 0.554758608341217 \t Accuracy : 0.44524139165878296\n",
      "Epoch :  73 \t Loss : 0.5539249181747437 \t Accuracy : 0.44607508182525635\n",
      "Epoch :  74 \t Loss : 0.5530574917793274 \t Accuracy : 0.4469425082206726\n",
      "Epoch :  75 \t Loss : 0.552137017250061 \t Accuracy : 0.44786298274993896\n",
      "Epoch :  76 \t Loss : 0.5512310266494751 \t Accuracy : 0.4487689733505249\n",
      "Epoch :  77 \t Loss : 0.5503081679344177 \t Accuracy : 0.4496918320655823\n",
      "Epoch :  78 \t Loss : 0.5493294596672058 \t Accuracy : 0.4506705403327942\n",
      "Epoch :  79 \t Loss : 0.5483483672142029 \t Accuracy : 0.4516516327857971\n",
      "Epoch :  80 \t Loss : 0.5474480986595154 \t Accuracy : 0.4525519013404846\n",
      "Epoch :  81 \t Loss : 0.546653687953949 \t Accuracy : 0.453346312046051\n",
      "Epoch :  82 \t Loss : 0.5459399223327637 \t Accuracy : 0.45406007766723633\n",
      "Epoch :  83 \t Loss : 0.5453053712844849 \t Accuracy : 0.45469462871551514\n",
      "Epoch :  84 \t Loss : 0.54466712474823 \t Accuracy : 0.45533287525177\n",
      "Epoch :  85 \t Loss : 0.54399573802948 \t Accuracy : 0.45600426197052\n",
      "Epoch :  86 \t Loss : 0.5433721542358398 \t Accuracy : 0.45662784576416016\n",
      "Epoch :  87 \t Loss : 0.5428051352500916 \t Accuracy : 0.45719486474990845\n",
      "Epoch :  88 \t Loss : 0.5422979593276978 \t Accuracy : 0.45770204067230225\n",
      "Epoch :  89 \t Loss : 0.5418404936790466 \t Accuracy : 0.45815950632095337\n",
      "Epoch :  90 \t Loss : 0.5413498282432556 \t Accuracy : 0.4586501717567444\n",
      "Epoch :  91 \t Loss : 0.5408033132553101 \t Accuracy : 0.45919668674468994\n",
      "Epoch :  92 \t Loss : 0.5402256846427917 \t Accuracy : 0.45977431535720825\n",
      "Epoch :  93 \t Loss : 0.5396922826766968 \t Accuracy : 0.4603077173233032\n",
      "Epoch :  94 \t Loss : 0.5392078757286072 \t Accuracy : 0.4607921242713928\n",
      "Epoch :  95 \t Loss : 0.5387043356895447 \t Accuracy : 0.4612956643104553\n",
      "Epoch :  96 \t Loss : 0.5381035804748535 \t Accuracy : 0.4618964195251465\n",
      "Epoch :  97 \t Loss : 0.5374693274497986 \t Accuracy : 0.4625306725502014\n",
      "Epoch :  98 \t Loss : 0.5368999242782593 \t Accuracy : 0.4631000757217407\n",
      "Epoch :  99 \t Loss : 0.536401093006134 \t Accuracy : 0.46359890699386597\n",
      "Epoch :  100 \t Loss : 0.5358965396881104 \t Accuracy : 0.46410346031188965\n",
      "Epoch :  101 \t Loss : 0.5353512167930603 \t Accuracy : 0.4646487832069397\n",
      "Epoch :  102 \t Loss : 0.5348424911499023 \t Accuracy : 0.46515750885009766\n",
      "Epoch :  103 \t Loss : 0.5343927145004272 \t Accuracy : 0.46560728549957275\n",
      "Epoch :  104 \t Loss : 0.533980667591095 \t Accuracy : 0.46601933240890503\n",
      "Epoch :  105 \t Loss : 0.5335363745689392 \t Accuracy : 0.4664636254310608\n",
      "Epoch :  106 \t Loss : 0.5330589413642883 \t Accuracy : 0.46694105863571167\n",
      "Epoch :  107 \t Loss : 0.5325857400894165 \t Accuracy : 0.4674142599105835\n",
      "Epoch :  108 \t Loss : 0.5321136713027954 \t Accuracy : 0.4678863286972046\n",
      "Epoch :  109 \t Loss : 0.5315898060798645 \t Accuracy : 0.4684101939201355\n",
      "Epoch :  110 \t Loss : 0.5310866236686707 \t Accuracy : 0.46891337633132935\n",
      "Epoch :  111 \t Loss : 0.5305200219154358 \t Accuracy : 0.4694799780845642\n",
      "Epoch :  112 \t Loss : 0.5299419164657593 \t Accuracy : 0.4700580835342407\n",
      "Epoch :  113 \t Loss : 0.5295095443725586 \t Accuracy : 0.4704904556274414\n",
      "Epoch :  114 \t Loss : 0.5291607975959778 \t Accuracy : 0.4708392024040222\n",
      "Epoch :  115 \t Loss : 0.5287210941314697 \t Accuracy : 0.4712789058685303\n",
      "Epoch :  116 \t Loss : 0.528267502784729 \t Accuracy : 0.471732497215271\n",
      "Epoch :  117 \t Loss : 0.5279439091682434 \t Accuracy : 0.4720560908317566\n",
      "Epoch :  118 \t Loss : 0.5276044011116028 \t Accuracy : 0.4723955988883972\n",
      "Epoch :  119 \t Loss : 0.5271278619766235 \t Accuracy : 0.47287213802337646\n",
      "Epoch :  120 \t Loss : 0.5267025232315063 \t Accuracy : 0.47329747676849365\n"
     ]
    }
   ],
   "source": [
    "n_epochs = 120\n",
    "training = []\n",
    "validation = []\n",
    "for epoch in range(n_epochs):\n",
    "    train_CNN_model(epoch)"
   ]
  },
  {
   "cell_type": "code",
   "execution_count": 15,
   "metadata": {},
   "outputs": [
    {
     "name": "stdout",
     "output_type": "stream",
     "text": [
      "Training Accuracy Score:  77.61085785329466 %\n"
     ]
    }
   ],
   "source": [
    "train_pred_values = model(train_x)\n",
    "train_act_fn = torch.exp(train_pred_values).cpu()\n",
    "train_values = list(train_act_fn.detach().numpy())\n",
    "train_pred = np.argmax(train_values, axis=1)\n",
    "train_acc = accuracy_score(train_y, train_pred)\n",
    "print(\"Training Accuracy Score: \", (100 * train_acc), \"%\")"
   ]
  },
  {
   "cell_type": "code",
   "execution_count": 16,
   "metadata": {},
   "outputs": [
    {
     "name": "stdout",
     "output_type": "stream",
     "text": [
      "Validation Accuracy Score:  75.51781275890637 %\n"
     ]
    }
   ],
   "source": [
    "val_pred_values = model(val_x)\n",
    "val_act_fn = torch.exp(val_pred_values).cpu()\n",
    "validation_values = list(val_act_fn.detach().numpy())\n",
    "validation_pred = np.argmax(validation_values, axis=1)\n",
    "val_acc = accuracy_score(val_y, validation_pred)\n",
    "print(\"Validation Accuracy Score: \", (100 * val_acc) , \"%\")"
   ]
  },
  {
   "cell_type": "code",
   "execution_count": 17,
   "metadata": {},
   "outputs": [
    {
     "name": "stdout",
     "output_type": "stream",
     "text": [
      "Test Accuracy Score:  74.2 %\n"
     ]
    }
   ],
   "source": [
    "test_pred_values = model(test_x)\n",
    "test_act_fn = torch.exp(test_pred_values).cpu()\n",
    "test_values = list(test_act_fn.detach().numpy())\n",
    "test_pred = np.argmax(test_values, axis=1)\n",
    "test_acc = accuracy_score(test_y, test_pred)\n",
    "print(\"Test Accuracy Score: \", (100 * test_acc), \"%\")"
   ]
  },
  {
   "cell_type": "code",
   "execution_count": 18,
   "metadata": {},
   "outputs": [
    {
     "data": {
      "image/png": "[encoded data removed]",
      "text/plain": [
       "<Figure size 432x288 with 1 Axes>"
      ]
     },
     "metadata": {
      "needs_background": "light"
     },
     "output_type": "display_data"
    }
   ],
   "source": [
    "plt.plot(training, label='Training loss')\n",
    "plt.plot(validation, label='Validation loss')\n",
    "plt.xlabel(\"Epochs\")\n",
    "plt.ylabel(\"Loss\")\n",
    "plt.legend()\n",
    "plt.show()"
   ]
  }
 ],
 "metadata": {
  "kernelspec": {
   "display_name": "Python 3",
   "language": "python",
   "name": "python3"
  },
  "language_info": {
   "codemirror_mode": {
    "name": "ipython",
    "version": 3
   },
   "file_extension": ".py",
   "mimetype": "text/x-python",
   "name": "python",
   "nbconvert_exporter": "python",
   "pygments_lexer": "ipython3",
   "version": "3.7.3"
  }
 },
 "nbformat": 4,
 "nbformat_minor": 2
}
